{
 "metadata": {
  "name": "",
  "signature": "sha256:8886b215b3da6281ec397c12f673d62d444a736f1397c913ab30dc6999c9ab92"
 },
 "nbformat": 3,
 "nbformat_minor": 0,
 "worksheets": [
  {
   "cells": [
    {
     "cell_type": "heading",
     "level": 1,
     "metadata": {},
     "source": [
      "IMPORTS"
     ]
    },
    {
     "cell_type": "code",
     "collapsed": false,
     "input": [
      "from skimage.io import imread\n",
      "import matplotlib.pyplot as plt\n",
      "from PIL import Image, ImageDraw\n",
      "from skimage import color, data#, restoration\n",
      "import numpy as np\n",
      "from scipy import ndimage\n",
      "from scipy.misc import imresize\n",
      "from skimage import io, color\n",
      "from pylab import *"
     ],
     "language": "python",
     "metadata": {},
     "outputs": [],
     "prompt_number": 1
    },
    {
     "cell_type": "code",
     "collapsed": false,
     "input": [
      "# Parametros:\n",
      "# img = imagen a mostrar como uint8\n",
      "# title = si no se pasa None, se mostrara en la ventana el titulo title pasado como parametro\n",
      "# colorbar = booleano que indica si se tiene que mostrar o no la barra de color\n",
      "def plotUint(img,title = None, colorbar = False):\n",
      "    # Iniciamos el modo interactivo a ON\n",
      "    ion()\n",
      "    plt.figure()\n",
      "    if title != None:\n",
      "        plt.title(title)\n",
      "    plt.show()\n",
      "    plt.imshow(img.astype(\"uint8\"))\n",
      "    if colorbar:\n",
      "        plt.colorbar()\n",
      "    plt.draw()\n",
      "    ioff()\n",
      "    \n",
      "# Parametros:\n",
      "# img = imagen a mostrar como uint8\n",
      "# pos = esta posicion esta pensada solo para que sea 1 \u00f3 2, ya que se mostrara una misma figure ya creada 1 de las 2 imagenes a comparar en cada llamada\n",
      "# title = si no se pasa None, se mostrara en la ventana el titulo title pasado como parametro\n",
      "# colorbar = booleano que indica si se tiene que mostrar o no la barra de color\n",
      "def plotUintSubplot(img,pos,title = None, colorbar = False):\n",
      "    # Iniciamos el modo interactivo a ON\n",
      "    ion()\n",
      "    plt.subplot(1,2,pos)\n",
      "    if title != None:\n",
      "        plt.title(title)\n",
      "    plt.show()\n",
      "    plt.imshow(img.astype(\"uint8\"))\n",
      "    if colorbar:\n",
      "        plt.colorbar()\n",
      "    plt.draw()\n",
      "    ioff()\n",
      "    \n",
      "# Parametros:\n",
      "# n = numero de ventanas (plt.figure) que se cerraran\n",
      "def closePlots(n):\n",
      "    for i in range(n):\n",
      "        plt.close()"
     ],
     "language": "python",
     "metadata": {},
     "outputs": [],
     "prompt_number": 2
    },
    {
     "cell_type": "code",
     "collapsed": false,
     "input": [
      "class get_mouse_click():\n",
      "    \"\"\"Mouse interaction interface for radial distortion removal.\n",
      "\n",
      "    \"\"\"\n",
      "    def __init__(self, img, n):\n",
      "      height, width = img.shape[:2]\n",
      "      \n",
      "      \n",
      "      self.figure = plt.imshow(img,extent=(0, width ,height,0 ))\n",
      "      \n",
      "      plt.gray()\n",
      "      if n!= -1:  \n",
      "          plt.title('select the same point in this image')\n",
      "      else:\n",
      "          plt.title('select one points')\n",
      "      plt.xlabel('Select sets of  points with left mouse button,\\n'\n",
      "                 'click right button to close the polygon.')\n",
      "      plt.connect('button_press_event', self.button_press)\n",
      "      plt.connect('motion_notify_event', self.mouse_move)\n",
      "\n",
      "      self.img = np.atleast_3d(img)\n",
      "      self.points = []\n",
      "      self.centre = np.array([(width - 1)/2., (height - 1)/2.])\n",
      "\n",
      "      self.height = height\n",
      "      self.width = width\n",
      "\n",
      "      self.make_cursorline()\n",
      "      self.figure.axes.set_autoscale_on(False)\n",
      "\n",
      "      plt.show()\n",
      "      plt.close()\n",
      "\n",
      "    def make_cursorline(self):\n",
      "        self.cursorline, = plt.plot([0],[0],'ro')\n",
      "    def button_press(self,event):\n",
      "        \"\"\"Register mouse clicks.\n",
      "\n",
      "        \"\"\"\n",
      "        if (event.button == 1 and event.xdata and event.ydata):\n",
      "            if(event.xdata < self.width and event.ydata < self.height):\n",
      "                self.points.append((int(event.xdata),int(event.ydata)))\n",
      "                #print \"Coordinate entered: (%f,%f)\" % (event.xdata, event.ydata)\n",
      "    \n",
      "                #if len(self.points) % 2 == 0:\n",
      "                plt.gca().lines.append(self.cursorline)\n",
      "                self.make_cursorline()\n",
      "                plt.close()\n",
      "                return self.points\n",
      "        if (event.button != 1):\n",
      "            #print \"pepito: \" ,self.points\n",
      "            #self.points.append((self.points[0][0],self.points[0][1]))\n",
      "            \n",
      "            plt.close()\n",
      "            return self.points\n",
      "            #qui\n",
      "            #print \"Removing distortion...\"\n",
      "            #plt.gca().lines = []\n",
      "            #plt.draw()\n",
      "            #self.remove_distortion()\n",
      "            #self.points = []\n",
      "\n",
      "    def mouse_move(self,event):\n",
      "        \"\"\"Handle cursor drawing.\n",
      "\n",
      "        \"\"\"\n",
      "        #pt_sets, pts_last_set = divmod(len(self.points),5)\n",
      "        #print pts_last_set\n",
      "        pts_last_set=len(self.points)\n",
      "        #print pts_last_set2\n",
      "        pts = np.zeros((pts_last_set+1,2))\n",
      "        if pts_last_set > 0:\n",
      "            # Line follows up to 3 clicked points:\n",
      "            pts[:pts_last_set] = self.points[-pts_last_set:]\n",
      "            # The last point of the line follows the mouse cursor\n",
      "        pts[pts_last_set:] = [event.xdata,event.ydata]\n",
      "        #print pts\n",
      "        self.cursorline.set_data(pts[:,0], pts[:,1])\n",
      "        \n",
      "        plt.draw()\n",
      "\n",
      "        \n"
     ],
     "language": "python",
     "metadata": {},
     "outputs": [],
<<<<<<< HEAD
     "prompt_number": 3
=======
     "prompt_number": 35
>>>>>>> d0ddae35b96b7c6641c7a25742d1f7ba91973633
    },
    {
     "cell_type": "code",
     "collapsed": false,
     "input": [
      "beanRGB = data.imread('bean.png').astype(\"float\")\n",
      "scarletRGB = data.imread('scarlet.png').astype(\"float\")\n",
      "'''\n",
      "plotUint(beanRGB,None,True)\n",
      "plotUint(scarletRGB,None,True)\n",
      "'''"
     ],
     "language": "python",
     "metadata": {},
     "outputs": [
      {
<<<<<<< HEAD
       "ename": "IOError",
       "evalue": "[Errno 2] No such file or directory: 'bean.png'",
       "output_type": "pyerr",
       "traceback": [
        "\u001b[1;31m---------------------------------------------------------------------------\u001b[0m\n\u001b[1;31mIOError\u001b[0m                                   Traceback (most recent call last)",
        "\u001b[1;32m<ipython-input-4-486b7c400f5c>\u001b[0m in \u001b[0;36m<module>\u001b[1;34m()\u001b[0m\n\u001b[1;32m----> 1\u001b[1;33m \u001b[0mbeanRGB\u001b[0m \u001b[1;33m=\u001b[0m \u001b[0mdata\u001b[0m\u001b[1;33m.\u001b[0m\u001b[0mimread\u001b[0m\u001b[1;33m(\u001b[0m\u001b[1;34m'bean.png'\u001b[0m\u001b[1;33m)\u001b[0m\u001b[1;33m.\u001b[0m\u001b[0mastype\u001b[0m\u001b[1;33m(\u001b[0m\u001b[1;34m\"float\"\u001b[0m\u001b[1;33m)\u001b[0m\u001b[1;33m\u001b[0m\u001b[0m\n\u001b[0m\u001b[0;32m      2\u001b[0m \u001b[0mscarletRGB\u001b[0m \u001b[1;33m=\u001b[0m \u001b[0mdata\u001b[0m\u001b[1;33m.\u001b[0m\u001b[0mimread\u001b[0m\u001b[1;33m(\u001b[0m\u001b[1;34m'scarlet.png'\u001b[0m\u001b[1;33m)\u001b[0m\u001b[1;33m.\u001b[0m\u001b[0mastype\u001b[0m\u001b[1;33m(\u001b[0m\u001b[1;34m\"float\"\u001b[0m\u001b[1;33m)\u001b[0m\u001b[1;33m\u001b[0m\u001b[0m\n\u001b[0;32m      3\u001b[0m \u001b[0mplotUint\u001b[0m\u001b[1;33m(\u001b[0m\u001b[0mbeanRGB\u001b[0m\u001b[1;33m,\u001b[0m\u001b[0mNone\u001b[0m\u001b[1;33m,\u001b[0m\u001b[0mTrue\u001b[0m\u001b[1;33m)\u001b[0m\u001b[1;33m\u001b[0m\u001b[0m\n\u001b[0;32m      4\u001b[0m \u001b[0mplotUint\u001b[0m\u001b[1;33m(\u001b[0m\u001b[0mscarletRGB\u001b[0m\u001b[1;33m,\u001b[0m\u001b[0mNone\u001b[0m\u001b[1;33m,\u001b[0m\u001b[0mTrue\u001b[0m\u001b[1;33m)\u001b[0m\u001b[1;33m\u001b[0m\u001b[0m\n",
        "\u001b[1;32m/home/zenbook/anaconda/lib/python2.7/site-packages/skimage/io/_io.pyc\u001b[0m in \u001b[0;36mimread\u001b[1;34m(fname, as_grey, plugin, flatten, **plugin_args)\u001b[0m\n\u001b[0;32m     95\u001b[0m \u001b[1;33m\u001b[0m\u001b[0m\n\u001b[0;32m     96\u001b[0m     \u001b[1;32mwith\u001b[0m \u001b[0mfile_or_url_context\u001b[0m\u001b[1;33m(\u001b[0m\u001b[0mfname\u001b[0m\u001b[1;33m)\u001b[0m \u001b[1;32mas\u001b[0m \u001b[0mfname\u001b[0m\u001b[1;33m:\u001b[0m\u001b[1;33m\u001b[0m\u001b[0m\n\u001b[1;32m---> 97\u001b[1;33m         \u001b[0mimg\u001b[0m \u001b[1;33m=\u001b[0m \u001b[0mcall_plugin\u001b[0m\u001b[1;33m(\u001b[0m\u001b[1;34m'imread'\u001b[0m\u001b[1;33m,\u001b[0m \u001b[0mfname\u001b[0m\u001b[1;33m,\u001b[0m \u001b[0mplugin\u001b[0m\u001b[1;33m=\u001b[0m\u001b[0mplugin\u001b[0m\u001b[1;33m,\u001b[0m \u001b[1;33m**\u001b[0m\u001b[0mplugin_args\u001b[0m\u001b[1;33m)\u001b[0m\u001b[1;33m\u001b[0m\u001b[0m\n\u001b[0m\u001b[0;32m     98\u001b[0m \u001b[1;33m\u001b[0m\u001b[0m\n\u001b[0;32m     99\u001b[0m     \u001b[1;32mif\u001b[0m \u001b[0mas_grey\u001b[0m \u001b[1;32mand\u001b[0m \u001b[0mgetattr\u001b[0m\u001b[1;33m(\u001b[0m\u001b[0mimg\u001b[0m\u001b[1;33m,\u001b[0m \u001b[1;34m'ndim'\u001b[0m\u001b[1;33m,\u001b[0m \u001b[1;36m0\u001b[0m\u001b[1;33m)\u001b[0m \u001b[1;33m>=\u001b[0m \u001b[1;36m3\u001b[0m\u001b[1;33m:\u001b[0m\u001b[1;33m\u001b[0m\u001b[0m\n",
        "\u001b[1;32m/home/zenbook/anaconda/lib/python2.7/site-packages/skimage/io/manage_plugins.pyc\u001b[0m in \u001b[0;36mcall_plugin\u001b[1;34m(kind, *args, **kwargs)\u001b[0m\n\u001b[0;32m    207\u001b[0m                                (plugin, kind))\n\u001b[0;32m    208\u001b[0m \u001b[1;33m\u001b[0m\u001b[0m\n\u001b[1;32m--> 209\u001b[1;33m     \u001b[1;32mreturn\u001b[0m \u001b[0mfunc\u001b[0m\u001b[1;33m(\u001b[0m\u001b[1;33m*\u001b[0m\u001b[0margs\u001b[0m\u001b[1;33m,\u001b[0m \u001b[1;33m**\u001b[0m\u001b[0mkwargs\u001b[0m\u001b[1;33m)\u001b[0m\u001b[1;33m\u001b[0m\u001b[0m\n\u001b[0m\u001b[0;32m    210\u001b[0m \u001b[1;33m\u001b[0m\u001b[0m\n\u001b[0;32m    211\u001b[0m \u001b[1;33m\u001b[0m\u001b[0m\n",
        "\u001b[1;32m/home/zenbook/anaconda/lib/python2.7/site-packages/skimage/io/_plugins/pil_plugin.pyc\u001b[0m in \u001b[0;36mimread\u001b[1;34m(fname, dtype)\u001b[0m\n\u001b[0;32m     21\u001b[0m \u001b[1;33m\u001b[0m\u001b[0m\n\u001b[0;32m     22\u001b[0m     \"\"\"\n\u001b[1;32m---> 23\u001b[1;33m     \u001b[0mim\u001b[0m \u001b[1;33m=\u001b[0m \u001b[0mImage\u001b[0m\u001b[1;33m.\u001b[0m\u001b[0mopen\u001b[0m\u001b[1;33m(\u001b[0m\u001b[0mfname\u001b[0m\u001b[1;33m)\u001b[0m\u001b[1;33m\u001b[0m\u001b[0m\n\u001b[0m\u001b[0;32m     24\u001b[0m     \u001b[1;32mif\u001b[0m \u001b[0mim\u001b[0m\u001b[1;33m.\u001b[0m\u001b[0mmode\u001b[0m \u001b[1;33m==\u001b[0m \u001b[1;34m'P'\u001b[0m\u001b[1;33m:\u001b[0m\u001b[1;33m\u001b[0m\u001b[0m\n\u001b[0;32m     25\u001b[0m         \u001b[1;32mif\u001b[0m \u001b[0m_palette_is_grayscale\u001b[0m\u001b[1;33m(\u001b[0m\u001b[0mim\u001b[0m\u001b[1;33m)\u001b[0m\u001b[1;33m:\u001b[0m\u001b[1;33m\u001b[0m\u001b[0m\n",
        "\u001b[1;32m/home/zenbook/anaconda/lib/python2.7/site-packages/PIL/Image.pyc\u001b[0m in \u001b[0;36mopen\u001b[1;34m(fp, mode)\u001b[0m\n\u001b[0;32m   1950\u001b[0m         \u001b[1;32mimport\u001b[0m \u001b[0m__builtin__\u001b[0m\u001b[1;33m\u001b[0m\u001b[0m\n\u001b[0;32m   1951\u001b[0m         \u001b[0mfilename\u001b[0m \u001b[1;33m=\u001b[0m \u001b[0mfp\u001b[0m\u001b[1;33m\u001b[0m\u001b[0m\n\u001b[1;32m-> 1952\u001b[1;33m         \u001b[0mfp\u001b[0m \u001b[1;33m=\u001b[0m \u001b[0m__builtin__\u001b[0m\u001b[1;33m.\u001b[0m\u001b[0mopen\u001b[0m\u001b[1;33m(\u001b[0m\u001b[0mfp\u001b[0m\u001b[1;33m,\u001b[0m \u001b[1;34m\"rb\"\u001b[0m\u001b[1;33m)\u001b[0m\u001b[1;33m\u001b[0m\u001b[0m\n\u001b[0m\u001b[0;32m   1953\u001b[0m     \u001b[1;32melse\u001b[0m\u001b[1;33m:\u001b[0m\u001b[1;33m\u001b[0m\u001b[0m\n\u001b[0;32m   1954\u001b[0m         \u001b[0mfilename\u001b[0m \u001b[1;33m=\u001b[0m \u001b[1;34m\"\"\u001b[0m\u001b[1;33m\u001b[0m\u001b[0m\n",
        "\u001b[1;31mIOError\u001b[0m: [Errno 2] No such file or directory: 'bean.png'"
=======
       "metadata": {},
       "output_type": "pyout",
       "prompt_number": 4,
       "text": [
        "'\\nplotUint(beanRGB,None,True)\\nplotUint(scarletRGB,None,True)\\n'"
>>>>>>> d0ddae35b96b7c6641c7a25742d1f7ba91973633
       ]
      }
     ],
     "prompt_number": 4
    },
    {
     "cell_type": "code",
     "collapsed": false,
     "input": [
      "closePlots(2)"
     ],
     "language": "python",
     "metadata": {},
<<<<<<< HEAD
     "outputs": []
=======
     "outputs": [],
     "prompt_number": 5
>>>>>>> d0ddae35b96b7c6641c7a25742d1f7ba91973633
    },
    {
     "cell_type": "code",
     "collapsed": false,
     "input": [
      "def getPoints(img1,img2):\n",
      "\n",
      "    ioff()\n",
      "    end = False\n",
      "    polygon1 = []\n",
      "    polygon2 = []\n",
      "    while(not end):\n",
      "        # GET AREA TO DELETE FROM IMAGE\n",
      "        rdi = get_mouse_click(img1.astype(\"uint8\"),-1)\n",
      "        punt = rdi.points\n",
      "        if(len(punt) == 0):\n",
      "            end = True\n",
      "        else:\n",
      "            polygon1.append(punt[0])\n",
      "            \n",
      "            # GET AREA TO DELETE FROM IMAGE\n",
      "            rdi = get_mouse_click(img2.astype(\"uint8\"),1)\n",
      "            try:\n",
      "                polygon2.append(rdi.points[0])\n",
      "            except IndexError:\n",
      "                end = True\n",
      "                polygon1.pop()\n",
      "        \n",
      "            \n",
      "    \n",
      "    return polygon1,polygon2\n",
      "\n",
      "def showImagesWithPoints(img1,img2):\n",
      "    \n",
      "    points1, points2 = getPoints(img1,img2)\n",
      "\n",
      "    n = 10\n",
      "    f = plt.figure()\n",
      "    title = \"Selected points\"\n",
      "    img1Copy,img2Copy = img1.copy(),img2.copy()\n",
      "    for punt in points1:\n",
      "       for x in range(-n,n):\n",
      "            for y in range(-n,n):\n",
      "                xFinal = img1Copy.shape[1]-1 if punt[0]+x >= img1Copy.shape[1] else punt[0]+x \n",
      "                yFinal = img1Copy.shape[0]-1 if punt[1]+y >= img1Copy.shape[0] else punt[1]+y \n",
      "                img1Copy[yFinal,xFinal] = np.array([255.,0,0]).reshape(1,1,3)\n",
      "    \n",
      "    plotUintSubplot(img1Copy,1,title,False)\n",
      "    for punt in points2:\n",
      "        for x in range(-n,n):\n",
      "            for y in range(-n,n):\n",
      "                xFinal = img2Copy.shape[1]-1 if punt[0]+x >= img2Copy.shape[1] else punt[0]+x \n",
      "                yFinal = img2Copy.shape[0]-1 if punt[1]+y >= img2Copy.shape[0] else punt[1]+y \n",
      "                img2Copy[yFinal,xFinal] = np.array([255.,0,0]).reshape(1,1,3)\n",
      "    \n",
      "    plotUintSubplot(img2Copy,2,title,False)\n",
      "    print \"Punts 1a imatge: \",points1\n",
      "    print \"Punts 2a imatge: \",points2\n",
      "        \n",
      "    return np.array(points1),np.array(points2)\n",
      "    \n",
      "    \n",
      "def crossDissolve(img1,img2,t):\n",
      "    return (1-t) * img1 + t * img2\n",
      "\n",
      "points1, points2 = showImagesWithPoints(beanRGB,scarletRGB)\n"
     ],
     "language": "python",
     "metadata": {},
<<<<<<< HEAD
     "outputs": []
=======
     "outputs": [
      {
       "output_type": "stream",
       "stream": "stdout",
       "text": [
        "Punts 1a imatge:  [(30, 538)]\n",
        "Punts 2a imatge:  [(320, 762)]\n"
       ]
      }
     ],
     "prompt_number": 57
>>>>>>> d0ddae35b96b7c6641c7a25742d1f7ba91973633
    },
    {
     "cell_type": "code",
     "collapsed": false,
     "input": [
      "closePlots(1)"
     ],
     "language": "python",
     "metadata": {},
<<<<<<< HEAD
     "outputs": []
=======
     "outputs": [],
     "prompt_number": 58
>>>>>>> d0ddae35b96b7c6641c7a25742d1f7ba91973633
    },
    {
     "cell_type": "code",
     "collapsed": false,
     "input": [],
     "language": "python",
     "metadata": {},
     "outputs": [],
     "prompt_number": 11
    },
    {
     "cell_type": "code",
     "collapsed": false,
     "input": [],
     "language": "python",
     "metadata": {},
     "outputs": []
    },
    {
     "cell_type": "code",
     "collapsed": false,
     "input": [],
     "language": "python",
     "metadata": {},
     "outputs": [
      {
       "output_type": "stream",
       "stream": "stdout",
       "text": [
        "1\n"
       ]
      }
     ],
     "prompt_number": 17
    },
    {
     "cell_type": "code",
     "collapsed": false,
     "input": [],
     "language": "python",
     "metadata": {},
     "outputs": []
    }
   ],
   "metadata": {}
  }
 ]
}